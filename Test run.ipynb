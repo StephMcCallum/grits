{
 "cells": [
  {
   "cell_type": "code",
   "execution_count": 1,
   "id": "86a0a551-a4df-4664-b230-63c0b6577256",
   "metadata": {},
   "outputs": [
    {
     "name": "stderr",
     "output_type": "stream",
     "text": [
      "/Users/stephaniemccallum/miniforge3/envs/grits/lib/python3.12/site-packages/mdtraj/formats/__init__.py:13: DeprecationWarning: 'xdrlib' is deprecated and slated for removal in Python 3.13\n",
      "  from mdtraj.formats.trr import TRRTrajectoryFile\n",
      "/Users/stephaniemccallum/miniforge3/envs/grits/lib/python3.12/site-packages/foyer/forcefield.py:33: DeprecationWarning: pkg_resources is deprecated as an API. See https://setuptools.pypa.io/en/latest/pkg_resources.html\n",
      "  from pkg_resources import iter_entry_points, resource_filename\n",
      "/Users/stephaniemccallum/miniforge3/envs/grits/lib/python3.12/site-packages/pkg_resources/__init__.py:3144: DeprecationWarning: Deprecated call to `pkg_resources.declare_namespace('google')`.\n",
      "Implementing implicit namespace packages (as specified in PEP 420) is preferred to `pkg_resources.declare_namespace`. See https://setuptools.pypa.io/en/latest/references/keywords.html#keyword-namespace-packages\n",
      "  declare_namespace(pkg)\n",
      "/Users/stephaniemccallum/miniforge3/envs/grits/lib/python3.12/site-packages/lark/utils.py:163: DeprecationWarning: module 'sre_parse' is deprecated\n",
      "  import sre_parse\n",
      "/Users/stephaniemccallum/miniforge3/envs/grits/lib/python3.12/site-packages/lark/utils.py:164: DeprecationWarning: module 'sre_constants' is deprecated\n",
      "  import sre_constants\n",
      "/Users/stephaniemccallum/miniforge3/envs/grits/lib/python3.12/site-packages/mbuild/packing.py:23: DeprecationWarning: Use shutil.which instead of find_executable\n",
      "  PACKMOL = find_executable(\"packmol\")\n"
     ]
    }
   ],
   "source": [
    "import numpy as np\n",
    "import mbuild as mb\n",
    "\n",
    "from grits import CG_System\n",
    "from grits.utils import amber_dict"
   ]
  },
  {
   "cell_type": "code",
   "execution_count": 2,
   "id": "52fd0a7c-35af-43b2-874f-a6b52fc03d65",
   "metadata": {},
   "outputs": [],
   "source": [
    "PPS_smiles = \"c1ccc(S)cc1\"\n",
    "a = mb.load(PPS_smiles, smiles=True)\n",
    "#a.visualize().show()"
   ]
  },
  {
   "cell_type": "code",
   "execution_count": null,
   "id": "31b14f3c-43d4-4642-953b-114b96bfa950",
   "metadata": {},
   "outputs": [],
   "source": [
    "ls"
   ]
  },
  {
   "cell_type": "code",
   "execution_count": null,
   "id": "2139bf63-20f2-4675-9eac-d20dddf9e328",
   "metadata": {},
   "outputs": [],
   "source": [
    "pwd"
   ]
  },
  {
   "cell_type": "code",
   "execution_count": 3,
   "id": "d6285f42-272c-4206-b738-fa3cb3688626",
   "metadata": {},
   "outputs": [
    {
     "name": "stdout",
     "output_type": "stream",
     "text": [
      "Added 6 hydrogens.\n"
     ]
    },
    {
     "name": "stderr",
     "output_type": "stream",
     "text": [
      "/Users/stephaniemccallum/Desktop/cmelab/forks/grits/grits/coarsegrain.py:192: UserWarning: Some atoms have been left out of coarse-graining!\n",
      "  warn(f\"Some atoms have been left out of coarse-graining!\")\n"
     ]
    }
   ],
   "source": [
    "gsdfile = \"/Users/stephaniemccallum/Desktop/cmelab/forks/grits/pps_trajectory_kT_2.0.gsd\"\n",
    "system = CG_System(\n",
    "    gsdfile,\n",
    "    add_hydrogens = True,\n",
    "    beads={\"_A\": PPS_smiles},\n",
    "    conversion_dict=amber_dict\n",
    ")"
   ]
  },
  {
   "cell_type": "code",
   "execution_count": 4,
   "id": "9660225b-93e6-49b8-9d31-5786ae97e187",
   "metadata": {},
   "outputs": [
    {
     "name": "stdout",
     "output_type": "stream",
     "text": [
      "(1, 7, 3)\n"
     ]
    },
    {
     "ename": "ValueError",
     "evalue": "GSD can only write 1 or 2 dimensional arrays: log/net_force",
     "output_type": "error",
     "traceback": [
      "\u001b[0;31m---------------------------------------------------------------------------\u001b[0m",
      "\u001b[0;31mValueError\u001b[0m                                Traceback (most recent call last)",
      "Cell \u001b[0;32mIn[4], line 2\u001b[0m\n\u001b[1;32m      1\u001b[0m cg_gsd \u001b[38;5;241m=\u001b[39m \u001b[38;5;124m\"\u001b[39m\u001b[38;5;124mPPS-cg.gsd\u001b[39m\u001b[38;5;124m\"\u001b[39m\n\u001b[0;32m----> 2\u001b[0m \u001b[43msystem\u001b[49m\u001b[38;5;241;43m.\u001b[39;49m\u001b[43msave\u001b[49m\u001b[43m(\u001b[49m\u001b[43mcg_gsd\u001b[49m\u001b[43m)\u001b[49m\n",
      "File \u001b[0;32m~/Desktop/cmelab/forks/grits/grits/coarsegrain.py:799\u001b[0m, in \u001b[0;36mCG_System.save\u001b[0;34m(self, cg_gsdfile, start, stop, stride)\u001b[0m\n\u001b[1;32m    797\u001b[0m         new_snap\u001b[38;5;241m.\u001b[39mparticles\u001b[38;5;241m.\u001b[39morientation \u001b[38;5;241m=\u001b[39m orientation\n\u001b[1;32m    798\u001b[0m     new_snap \u001b[38;5;241m=\u001b[39m identify_snapshot_connections(new_snap)\n\u001b[0;32m--> 799\u001b[0m \u001b[43mnew\u001b[49m\u001b[38;5;241;43m.\u001b[39;49m\u001b[43mappend\u001b[49m\u001b[43m(\u001b[49m\u001b[43mnew_snap\u001b[49m\u001b[43m)\u001b[49m\n",
      "File \u001b[0;32m~/miniforge3/envs/grits/lib/python3.12/site-packages/gsd/hoomd.py:787\u001b[0m, in \u001b[0;36mHOOMDTrajectory.append\u001b[0;34m(self, frame)\u001b[0m\n\u001b[1;32m    785\u001b[0m \u001b[38;5;66;03m# write log data\u001b[39;00m\n\u001b[1;32m    786\u001b[0m \u001b[38;5;28;01mfor\u001b[39;00m log, data \u001b[38;5;129;01min\u001b[39;00m frame\u001b[38;5;241m.\u001b[39mlog\u001b[38;5;241m.\u001b[39mitems():\n\u001b[0;32m--> 787\u001b[0m     \u001b[38;5;28;43mself\u001b[39;49m\u001b[38;5;241;43m.\u001b[39;49m\u001b[43mfile\u001b[49m\u001b[38;5;241;43m.\u001b[39;49m\u001b[43mwrite_chunk\u001b[49m\u001b[43m(\u001b[49m\u001b[38;5;124;43m'\u001b[39;49m\u001b[38;5;124;43mlog/\u001b[39;49m\u001b[38;5;124;43m'\u001b[39;49m\u001b[43m \u001b[49m\u001b[38;5;241;43m+\u001b[39;49m\u001b[43m \u001b[49m\u001b[43mlog\u001b[49m\u001b[43m,\u001b[49m\u001b[43m \u001b[49m\u001b[43mdata\u001b[49m\u001b[43m)\u001b[49m\n\u001b[1;32m    789\u001b[0m \u001b[38;5;28mself\u001b[39m\u001b[38;5;241m.\u001b[39mfile\u001b[38;5;241m.\u001b[39mend_frame()\n",
      "File \u001b[0;32m~/miniforge3/envs/grits/lib/python3.12/site-packages/gsd/fl.pyx:569\u001b[0m, in \u001b[0;36mgsd.fl.GSDFile.write_chunk\u001b[0;34m()\u001b[0m\n",
      "\u001b[0;31mValueError\u001b[0m: GSD can only write 1 or 2 dimensional arrays: log/net_force"
     ]
    }
   ],
   "source": [
    "cg_gsd = \"PPS-cg.gsd\"\n",
    "system.save(cg_gsd)"
   ]
  },
  {
   "cell_type": "code",
   "execution_count": null,
   "id": "90ecc7df-c73d-489d-8053-143459f91313",
   "metadata": {},
   "outputs": [],
   "source": [
    "import gsd.hoomd\n",
    "\n",
    "traj = gsd.hoomd.open(gsdfile)\n",
    "snap = traj[-1]"
   ]
  },
  {
   "cell_type": "code",
   "execution_count": null,
   "id": "7a434d67-2d79-4ebf-b400-709a5baa8c66",
   "metadata": {},
   "outputs": [],
   "source": [
    "inds = [1, 2, 3, 4]"
   ]
  },
  {
   "cell_type": "code",
   "execution_count": null,
   "id": "5474c6f6-3fad-49b8-90cd-6142b870b379",
   "metadata": {},
   "outputs": [],
   "source": [
    "import numpy as np\n",
    "\n",
    "np.add.reduce(snap.log[\"particles/md/pair/LJ/forces\"])"
   ]
  },
  {
   "cell_type": "code",
   "execution_count": null,
   "id": "4d0906fe-0023-4b98-9cdb-97f133843a8b",
   "metadata": {},
   "outputs": [],
   "source": [
    "snap.log[\"particles/md/pair/LJ/forces\"].shape"
   ]
  },
  {
   "cell_type": "code",
   "execution_count": null,
   "id": "474275ce-74a4-498c-b5e6-acaf9b26ab3e",
   "metadata": {},
   "outputs": [],
   "source": []
  },
  {
   "cell_type": "code",
   "execution_count": null,
   "id": "36fbdb7b-7449-4cbe-bc1e-40f5f158b1dd",
   "metadata": {},
   "outputs": [],
   "source": [
    "snap.particles.velocity"
   ]
  },
  {
   "cell_type": "code",
   "execution_count": null,
   "id": "6ddec25f-8367-410a-91f1-e18082affb6f",
   "metadata": {},
   "outputs": [],
   "source": [
    "dir(snap)"
   ]
  },
  {
   "cell_type": "code",
   "execution_count": null,
   "id": "30657571-9928-45af-8e87-ca88a670b7f2",
   "metadata": {},
   "outputs": [],
   "source": [
    "snap.log"
   ]
  },
  {
   "cell_type": "code",
   "execution_count": null,
   "id": "7f765cf4-4e7d-41a0-950a-71e013b88b19",
   "metadata": {},
   "outputs": [],
   "source": []
  }
 ],
 "metadata": {
  "kernelspec": {
   "display_name": "Python 3 (ipykernel)",
   "language": "python",
   "name": "python3"
  },
  "language_info": {
   "codemirror_mode": {
    "name": "ipython",
    "version": 3
   },
   "file_extension": ".py",
   "mimetype": "text/x-python",
   "name": "python",
   "nbconvert_exporter": "python",
   "pygments_lexer": "ipython3",
   "version": "3.12.0"
  }
 },
 "nbformat": 4,
 "nbformat_minor": 5
}
