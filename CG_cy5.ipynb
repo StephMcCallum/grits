{
 "cells": [
  {
   "cell_type": "code",
   "execution_count": 1,
   "id": "86a0a551-a4df-4664-b230-63c0b6577256",
   "metadata": {
    "scrolled": true
   },
   "outputs": [
    {
     "name": "stderr",
     "output_type": "stream",
     "text": [
      "/Users/stephaniemccallum/miniforge3/envs/grits/lib/python3.12/site-packages/mdtraj/formats/__init__.py:13: DeprecationWarning: 'xdrlib' is deprecated and slated for removal in Python 3.13\n",
      "  from mdtraj.formats.trr import TRRTrajectoryFile\n",
      "/Users/stephaniemccallum/miniforge3/envs/grits/lib/python3.12/site-packages/foyer/forcefield.py:34: DeprecationWarning: pkg_resources is deprecated as an API. See https://setuptools.pypa.io/en/latest/pkg_resources.html\n",
      "  from pkg_resources import iter_entry_points, resource_filename\n",
      "/Users/stephaniemccallum/miniforge3/envs/grits/lib/python3.12/site-packages/pkg_resources/__init__.py:3138: DeprecationWarning: Deprecated call to `pkg_resources.declare_namespace('google')`.\n",
      "Implementing implicit namespace packages (as specified in PEP 420) is preferred to `pkg_resources.declare_namespace`. See https://setuptools.pypa.io/en/latest/references/keywords.html#keyword-namespace-packages\n",
      "  declare_namespace(pkg)\n"
     ]
    },
    {
     "name": "stdout",
     "output_type": "stream",
     "text": [
      "\n",
      "Support for writing out LAMMPS data files will be removed\n",
      "in mbuild 1.0.\n",
      "See GMSO (https://github.com/mosdef-hub/gmso/tree/main/gmso/formats/lammpsdata) for\n",
      "continued support for LAMMPS.\n",
      "\n"
     ]
    }
   ],
   "source": [
    "import numpy as np\n",
    "import mbuild as mb\n",
    "\n",
    "from grits import CG_Compound\n",
    "from grits.utils import amber_dict"
   ]
  },
  {
   "cell_type": "code",
   "execution_count": 2,
   "id": "52fd0a7c-35af-43b2-874f-a6b52fc03d65",
   "metadata": {},
   "outputs": [
    {
     "data": {
      "application/3dmoljs_load.v0": "<div id=\"3dmolviewer_1750182300704919\"  style=\"position: relative; width: 640px; height: 480px;\">\n        <p id=\"3dmolwarning_1750182300704919\" style=\"background-color:#ffcccc;color:black\">3Dmol.js failed to load for some reason.  Please check your browser console for error messages.<br></p>\n        </div>\n<script>\n\nvar loadScriptAsync = function(uri){\n  return new Promise((resolve, reject) => {\n    //this is to ignore the existence of requirejs amd\n    var savedexports, savedmodule;\n    if (typeof exports !== 'undefined') savedexports = exports;\n    else exports = {}\n    if (typeof module !== 'undefined') savedmodule = module;\n    else module = {}\n\n    var tag = document.createElement('script');\n    tag.src = uri;\n    tag.async = true;\n    tag.onload = () => {\n        exports = savedexports;\n        module = savedmodule;\n        resolve();\n    };\n  var firstScriptTag = document.getElementsByTagName('script')[0];\n  firstScriptTag.parentNode.insertBefore(tag, firstScriptTag);\n});\n};\n\nif(typeof $3Dmolpromise === 'undefined') {\n$3Dmolpromise = null;\n  $3Dmolpromise = loadScriptAsync('https://cdnjs.cloudflare.com/ajax/libs/3Dmol/2.4.0/3Dmol-min.js');\n}\n\nvar viewer_1750182300704919 = null;\nvar warn = document.getElementById(\"3dmolwarning_1750182300704919\");\nif(warn) {\n    warn.parentNode.removeChild(warn);\n}\n$3Dmolpromise.then(function() {\nviewer_1750182300704919 = $3Dmol.createViewer(document.getElementById(\"3dmolviewer_1750182300704919\"),{backgroundColor:\"white\"});\nviewer_1750182300704919.zoomTo();\n\tviewer_1750182300704919.addModel(\"@<TRIPOS>MOLECULE\\nRES\\n85 88 1 0 1\\nSMALL\\nNO_CHARGES\\n@<TRIPOS>CRYSIN\\n   24.5160    13.6122    16.3594    90.0000    90.0000    90.0000 1 1\\n@<TRIPOS>ATOM\\n       1 C            1.8963    -2.2249    -1.3648 C             1 RES     \\n       2 C            2.4589    -1.0829    -2.2340 C             1 RES     \\n       3 C            2.5244     0.2545    -1.4868 C             1 RES     \\n       4 N            3.8843     0.7210    -1.4023 N             1 RES     \\n       5 C            4.3548     1.9954    -0.8445 C             1 RES     \\n       6 C            4.4790     1.9247     0.6836 C             1 RES     \\n       7 C            5.6996     1.1060     1.1330 C             1 RES     \\n       8 C            5.7639     0.9217     2.6570 C             1 RES     \\n       9 C            5.9693     2.2433     3.4110 C             1 RES     \\n      10 C            6.2360     1.9933     4.8625 C             1 RES     \\n      11 O            7.4514     2.3823     5.4229 O             1 RES     \\n      12 O            5.3603     1.4393     5.5806 O             1 RES     \\n      13 C            1.5042     0.9213    -0.9015 C             1 RES     \\n      14 C            0.0889     0.5050    -0.9111 C             1 RES     \\n      15 C           -0.7802     1.0254    -0.0408 C             1 RES     \\n      16 C           -2.1922     0.6094    -0.0455 C             1 RES     \\n      17 C           -3.0378     1.0194     0.9027 C             1 RES     \\n      18 C           -4.4728     0.6468     0.9026 C             1 RES     \\n      19 N           -4.9328    -0.5783     0.8128 N             1 RES     \\n      20 C           -4.1585    -1.8269     0.7567 C             1 RES     \\n      21 C           -4.2295    -2.4528    -0.6349 C             1 RES     \\n      22 C           -6.3527    -0.5095     0.8932 C             1 RES     \\n      23 C           -7.2644    -1.5701     0.8790 C             1 RES     \\n      24 C           -8.6328    -1.2750     0.9853 C             1 RES     \\n      25 C           -9.0708     0.0617     1.1118 C             1 RES     \\n      26 S          -10.7891     0.4120     1.2578 S             1 RES     \\n      27 O          -11.0625     1.8265     0.8298 O             1 RES     \\n      28 O          -11.2677     0.2106     2.8551 O             1 RES     \\n      29 O          -11.5718    -0.5196     0.3759 O             1 RES     \\n      30 C           -8.1289     1.1070     1.1484 C             1 RES     \\n      31 C           -6.7733     0.7874     1.0341 C             1 RES     \\n      32 C           -5.5741     1.6826     1.0834 C             1 RES     \\n      33 C           -5.5846     2.6887    -0.0759 C             1 RES     \\n      34 C           -5.4749     2.3870     2.4469 C             1 RES     \\n      35 C            1.7402    -0.9618    -3.5908 C             1 RES     \\n      36 C            3.9271    -1.3238    -2.4815 C             1 RES     \\n      37 C            4.6891    -0.2812    -2.0068 C             1 RES     \\n      38 C            6.0835    -0.2923    -2.1199 C             1 RES     \\n      39 C            6.6997    -1.3940    -2.7320 C             1 RES     \\n      40 C            5.9252    -2.4601    -3.2302 C             1 RES     \\n      41 S            6.7115    -3.8489    -3.9722 S             1 RES     \\n      42 O            7.9442    -3.3980    -4.7049 O             1 RES     \\n      43 O            7.1440    -4.9548    -2.7819 O             1 RES     \\n      44 O            5.7819    -4.5052    -4.9552 O             1 RES     \\n      45 C            4.5262    -2.4269    -3.1020 C             1 RES     \\n      46 H            2.4345    -2.2767    -0.3948 H             1 RES     \\n      47 H            0.8175    -2.1011    -1.1562 H             1 RES     \\n      48 H            2.0134    -3.1968    -1.8839 H             1 RES     \\n      49 H            3.6408     2.8007    -1.1197 H             1 RES     \\n      50 H            5.3256     2.2884    -1.2963 H             1 RES     \\n      51 H            3.5554     1.4874     1.1183 H             1 RES     \\n      52 H            4.5756     2.9646     1.0608 H             1 RES     \\n      53 H            6.6328     1.5946     0.7772 H             1 RES     \\n      54 H            5.6458     0.0945     0.6789 H             1 RES     \\n      55 H            4.8334     0.4274     3.0106 H             1 RES     \\n      56 H            6.6129     0.2400     2.8824 H             1 RES     \\n      57 H            6.8253     2.7978     2.9709 H             1 RES     \\n      58 H            5.0629     2.8775     3.3286 H             1 RES     \\n      59 H            7.6471     2.2205     6.4042 H             1 RES     \\n      60 H            1.7266     1.8249    -0.3513 H             1 RES     \\n      61 H           -0.2676    -0.2230    -1.6202 H             1 RES     \\n      62 H           -0.4434     1.7450     0.6964 H             1 RES     \\n      63 H           -2.5437    -0.0293    -0.8424 H             1 RES     \\n      64 H           -2.6974     1.7269     1.6492 H             1 RES     \\n      65 H           -3.0985    -1.6562     1.0354 H             1 RES     \\n      66 H           -4.5662    -2.5469     1.4986 H             1 RES     \\n      67 H           -3.9266    -1.7245    -1.4125 H             1 RES     \\n      68 H           -3.5517    -3.3298    -0.6839 H             1 RES     \\n      69 H           -5.2620    -2.7905    -0.8612 H             1 RES     \\n      70 H           -6.9368    -2.5979     0.8007 H             1 RES     \\n      71 H           -9.3498    -2.0853     0.9795 H             1 RES     \\n      72 H           -8.4403     2.1368     1.2720 H             1 RES     \\n      73 H           -6.4480     3.3823     0.0214 H             1 RES     \\n      74 H           -5.6663     2.1600    -1.0511 H             1 RES     \\n      75 H           -4.6487     3.2883    -0.0757 H             1 RES     \\n      76 H           -6.3420     3.0660     2.5961 H             1 RES     \\n      77 H           -4.5462     2.9936     2.5084 H             1 RES     \\n      78 H           -5.4668     1.6407     3.2724 H             1 RES     \\n      79 H            0.6549    -0.7850    -3.4802 H             1 RES     \\n      80 H            1.8632    -1.8971    -4.1781 H             1 RES     \\n      81 H            2.1670    -0.1227    -4.1811 H             1 RES     \\n      82 H            6.6892     0.5137    -1.7317 H             1 RES     \\n      83 H            7.7790    -1.4215    -2.8106 H             1 RES     \\n      84 H            6.2879    -5.2299    -2.3675 H             1 RES     \\n      85 H            3.9186    -3.2424    -3.4698 H             1 RES     \\n@<TRIPOS>BOND\\n       1        1        2 1\\n       2        1       46 1\\n       3        1       47 1\\n       4        1       48 1\\n       5        2        3 1\\n       6        2       35 1\\n       7        2       36 1\\n       8        3        4 1\\n       9        3       13 1\\n      10        4        5 1\\n      11        4       37 1\\n      12        5        6 1\\n      13        5       49 1\\n      14        5       50 1\\n      15        6        7 1\\n      16        6       51 1\\n      17        6       52 1\\n      18        7        8 1\\n      19        7       53 1\\n      20        7       54 1\\n      21        8        9 1\\n      22        8       55 1\\n      23        8       56 1\\n      24        9       10 1\\n      25        9       57 1\\n      26        9       58 1\\n      27       10       11 1\\n      28       10       12 1\\n      29       11       59 1\\n      30       13       14 1\\n      31       13       60 1\\n      32       14       15 1\\n      33       14       61 1\\n      34       15       16 1\\n      35       15       62 1\\n      36       16       17 1\\n      37       16       63 1\\n      38       17       18 1\\n      39       17       64 1\\n      40       18       19 1\\n      41       18       32 1\\n      42       19       20 1\\n      43       19       22 1\\n      44       20       21 1\\n      45       20       65 1\\n      46       20       66 1\\n      47       21       67 1\\n      48       21       68 1\\n      49       21       69 1\\n      50       22       23 1\\n      51       22       31 1\\n      52       23       24 1\\n      53       23       70 1\\n      54       24       25 1\\n      55       24       71 1\\n      56       25       26 1\\n      57       25       30 1\\n      58       26       27 1\\n      59       26       28 1\\n      60       26       29 1\\n      61       30       31 1\\n      62       30       72 1\\n      63       31       32 1\\n      64       32       33 1\\n      65       32       34 1\\n      66       33       73 1\\n      67       33       74 1\\n      68       33       75 1\\n      69       34       76 1\\n      70       34       77 1\\n      71       34       78 1\\n      72       35       79 1\\n      73       35       80 1\\n      74       35       81 1\\n      75       36       37 1\\n      76       36       45 1\\n      77       37       38 1\\n      78       38       39 1\\n      79       38       82 1\\n      80       39       40 1\\n      81       39       83 1\\n      82       40       41 1\\n      83       40       45 1\\n      84       41       42 1\\n      85       41       43 1\\n      86       41       44 1\\n      87       43       84 1\\n      88       45       85 1\\n@<TRIPOS>SUBSTRUCTURE\\n       1 RES             1 RESIDUE    0 **** ROOT      0\\n\",\"mol2\");\n\tviewer_1750182300704919.setStyle({\"stick\": {\"radius\": 0.18, \"color\": \"grey\"}, \"sphere\": {\"scale\": 0.3, \"colorscheme\": {}}});\n\tviewer_1750182300704919.zoomTo();\nviewer_1750182300704919.render();\n});\n</script>",
      "text/html": [
       "<div id=\"3dmolviewer_1750182300704919\"  style=\"position: relative; width: 640px; height: 480px;\">\n",
       "        <p id=\"3dmolwarning_1750182300704919\" style=\"background-color:#ffcccc;color:black\">3Dmol.js failed to load for some reason.  Please check your browser console for error messages.<br></p>\n",
       "        </div>\n",
       "<script>\n",
       "\n",
       "var loadScriptAsync = function(uri){\n",
       "  return new Promise((resolve, reject) => {\n",
       "    //this is to ignore the existence of requirejs amd\n",
       "    var savedexports, savedmodule;\n",
       "    if (typeof exports !== 'undefined') savedexports = exports;\n",
       "    else exports = {}\n",
       "    if (typeof module !== 'undefined') savedmodule = module;\n",
       "    else module = {}\n",
       "\n",
       "    var tag = document.createElement('script');\n",
       "    tag.src = uri;\n",
       "    tag.async = true;\n",
       "    tag.onload = () => {\n",
       "        exports = savedexports;\n",
       "        module = savedmodule;\n",
       "        resolve();\n",
       "    };\n",
       "  var firstScriptTag = document.getElementsByTagName('script')[0];\n",
       "  firstScriptTag.parentNode.insertBefore(tag, firstScriptTag);\n",
       "});\n",
       "};\n",
       "\n",
       "if(typeof $3Dmolpromise === 'undefined') {\n",
       "$3Dmolpromise = null;\n",
       "  $3Dmolpromise = loadScriptAsync('https://cdnjs.cloudflare.com/ajax/libs/3Dmol/2.4.0/3Dmol-min.js');\n",
       "}\n",
       "\n",
       "var viewer_1750182300704919 = null;\n",
       "var warn = document.getElementById(\"3dmolwarning_1750182300704919\");\n",
       "if(warn) {\n",
       "    warn.parentNode.removeChild(warn);\n",
       "}\n",
       "$3Dmolpromise.then(function() {\n",
       "viewer_1750182300704919 = $3Dmol.createViewer(document.getElementById(\"3dmolviewer_1750182300704919\"),{backgroundColor:\"white\"});\n",
       "viewer_1750182300704919.zoomTo();\n",
       "\tviewer_1750182300704919.addModel(\"@<TRIPOS>MOLECULE\\nRES\\n85 88 1 0 1\\nSMALL\\nNO_CHARGES\\n@<TRIPOS>CRYSIN\\n   24.5160    13.6122    16.3594    90.0000    90.0000    90.0000 1 1\\n@<TRIPOS>ATOM\\n       1 C            1.8963    -2.2249    -1.3648 C             1 RES     \\n       2 C            2.4589    -1.0829    -2.2340 C             1 RES     \\n       3 C            2.5244     0.2545    -1.4868 C             1 RES     \\n       4 N            3.8843     0.7210    -1.4023 N             1 RES     \\n       5 C            4.3548     1.9954    -0.8445 C             1 RES     \\n       6 C            4.4790     1.9247     0.6836 C             1 RES     \\n       7 C            5.6996     1.1060     1.1330 C             1 RES     \\n       8 C            5.7639     0.9217     2.6570 C             1 RES     \\n       9 C            5.9693     2.2433     3.4110 C             1 RES     \\n      10 C            6.2360     1.9933     4.8625 C             1 RES     \\n      11 O            7.4514     2.3823     5.4229 O             1 RES     \\n      12 O            5.3603     1.4393     5.5806 O             1 RES     \\n      13 C            1.5042     0.9213    -0.9015 C             1 RES     \\n      14 C            0.0889     0.5050    -0.9111 C             1 RES     \\n      15 C           -0.7802     1.0254    -0.0408 C             1 RES     \\n      16 C           -2.1922     0.6094    -0.0455 C             1 RES     \\n      17 C           -3.0378     1.0194     0.9027 C             1 RES     \\n      18 C           -4.4728     0.6468     0.9026 C             1 RES     \\n      19 N           -4.9328    -0.5783     0.8128 N             1 RES     \\n      20 C           -4.1585    -1.8269     0.7567 C             1 RES     \\n      21 C           -4.2295    -2.4528    -0.6349 C             1 RES     \\n      22 C           -6.3527    -0.5095     0.8932 C             1 RES     \\n      23 C           -7.2644    -1.5701     0.8790 C             1 RES     \\n      24 C           -8.6328    -1.2750     0.9853 C             1 RES     \\n      25 C           -9.0708     0.0617     1.1118 C             1 RES     \\n      26 S          -10.7891     0.4120     1.2578 S             1 RES     \\n      27 O          -11.0625     1.8265     0.8298 O             1 RES     \\n      28 O          -11.2677     0.2106     2.8551 O             1 RES     \\n      29 O          -11.5718    -0.5196     0.3759 O             1 RES     \\n      30 C           -8.1289     1.1070     1.1484 C             1 RES     \\n      31 C           -6.7733     0.7874     1.0341 C             1 RES     \\n      32 C           -5.5741     1.6826     1.0834 C             1 RES     \\n      33 C           -5.5846     2.6887    -0.0759 C             1 RES     \\n      34 C           -5.4749     2.3870     2.4469 C             1 RES     \\n      35 C            1.7402    -0.9618    -3.5908 C             1 RES     \\n      36 C            3.9271    -1.3238    -2.4815 C             1 RES     \\n      37 C            4.6891    -0.2812    -2.0068 C             1 RES     \\n      38 C            6.0835    -0.2923    -2.1199 C             1 RES     \\n      39 C            6.6997    -1.3940    -2.7320 C             1 RES     \\n      40 C            5.9252    -2.4601    -3.2302 C             1 RES     \\n      41 S            6.7115    -3.8489    -3.9722 S             1 RES     \\n      42 O            7.9442    -3.3980    -4.7049 O             1 RES     \\n      43 O            7.1440    -4.9548    -2.7819 O             1 RES     \\n      44 O            5.7819    -4.5052    -4.9552 O             1 RES     \\n      45 C            4.5262    -2.4269    -3.1020 C             1 RES     \\n      46 H            2.4345    -2.2767    -0.3948 H             1 RES     \\n      47 H            0.8175    -2.1011    -1.1562 H             1 RES     \\n      48 H            2.0134    -3.1968    -1.8839 H             1 RES     \\n      49 H            3.6408     2.8007    -1.1197 H             1 RES     \\n      50 H            5.3256     2.2884    -1.2963 H             1 RES     \\n      51 H            3.5554     1.4874     1.1183 H             1 RES     \\n      52 H            4.5756     2.9646     1.0608 H             1 RES     \\n      53 H            6.6328     1.5946     0.7772 H             1 RES     \\n      54 H            5.6458     0.0945     0.6789 H             1 RES     \\n      55 H            4.8334     0.4274     3.0106 H             1 RES     \\n      56 H            6.6129     0.2400     2.8824 H             1 RES     \\n      57 H            6.8253     2.7978     2.9709 H             1 RES     \\n      58 H            5.0629     2.8775     3.3286 H             1 RES     \\n      59 H            7.6471     2.2205     6.4042 H             1 RES     \\n      60 H            1.7266     1.8249    -0.3513 H             1 RES     \\n      61 H           -0.2676    -0.2230    -1.6202 H             1 RES     \\n      62 H           -0.4434     1.7450     0.6964 H             1 RES     \\n      63 H           -2.5437    -0.0293    -0.8424 H             1 RES     \\n      64 H           -2.6974     1.7269     1.6492 H             1 RES     \\n      65 H           -3.0985    -1.6562     1.0354 H             1 RES     \\n      66 H           -4.5662    -2.5469     1.4986 H             1 RES     \\n      67 H           -3.9266    -1.7245    -1.4125 H             1 RES     \\n      68 H           -3.5517    -3.3298    -0.6839 H             1 RES     \\n      69 H           -5.2620    -2.7905    -0.8612 H             1 RES     \\n      70 H           -6.9368    -2.5979     0.8007 H             1 RES     \\n      71 H           -9.3498    -2.0853     0.9795 H             1 RES     \\n      72 H           -8.4403     2.1368     1.2720 H             1 RES     \\n      73 H           -6.4480     3.3823     0.0214 H             1 RES     \\n      74 H           -5.6663     2.1600    -1.0511 H             1 RES     \\n      75 H           -4.6487     3.2883    -0.0757 H             1 RES     \\n      76 H           -6.3420     3.0660     2.5961 H             1 RES     \\n      77 H           -4.5462     2.9936     2.5084 H             1 RES     \\n      78 H           -5.4668     1.6407     3.2724 H             1 RES     \\n      79 H            0.6549    -0.7850    -3.4802 H             1 RES     \\n      80 H            1.8632    -1.8971    -4.1781 H             1 RES     \\n      81 H            2.1670    -0.1227    -4.1811 H             1 RES     \\n      82 H            6.6892     0.5137    -1.7317 H             1 RES     \\n      83 H            7.7790    -1.4215    -2.8106 H             1 RES     \\n      84 H            6.2879    -5.2299    -2.3675 H             1 RES     \\n      85 H            3.9186    -3.2424    -3.4698 H             1 RES     \\n@<TRIPOS>BOND\\n       1        1        2 1\\n       2        1       46 1\\n       3        1       47 1\\n       4        1       48 1\\n       5        2        3 1\\n       6        2       35 1\\n       7        2       36 1\\n       8        3        4 1\\n       9        3       13 1\\n      10        4        5 1\\n      11        4       37 1\\n      12        5        6 1\\n      13        5       49 1\\n      14        5       50 1\\n      15        6        7 1\\n      16        6       51 1\\n      17        6       52 1\\n      18        7        8 1\\n      19        7       53 1\\n      20        7       54 1\\n      21        8        9 1\\n      22        8       55 1\\n      23        8       56 1\\n      24        9       10 1\\n      25        9       57 1\\n      26        9       58 1\\n      27       10       11 1\\n      28       10       12 1\\n      29       11       59 1\\n      30       13       14 1\\n      31       13       60 1\\n      32       14       15 1\\n      33       14       61 1\\n      34       15       16 1\\n      35       15       62 1\\n      36       16       17 1\\n      37       16       63 1\\n      38       17       18 1\\n      39       17       64 1\\n      40       18       19 1\\n      41       18       32 1\\n      42       19       20 1\\n      43       19       22 1\\n      44       20       21 1\\n      45       20       65 1\\n      46       20       66 1\\n      47       21       67 1\\n      48       21       68 1\\n      49       21       69 1\\n      50       22       23 1\\n      51       22       31 1\\n      52       23       24 1\\n      53       23       70 1\\n      54       24       25 1\\n      55       24       71 1\\n      56       25       26 1\\n      57       25       30 1\\n      58       26       27 1\\n      59       26       28 1\\n      60       26       29 1\\n      61       30       31 1\\n      62       30       72 1\\n      63       31       32 1\\n      64       32       33 1\\n      65       32       34 1\\n      66       33       73 1\\n      67       33       74 1\\n      68       33       75 1\\n      69       34       76 1\\n      70       34       77 1\\n      71       34       78 1\\n      72       35       79 1\\n      73       35       80 1\\n      74       35       81 1\\n      75       36       37 1\\n      76       36       45 1\\n      77       37       38 1\\n      78       38       39 1\\n      79       38       82 1\\n      80       39       40 1\\n      81       39       83 1\\n      82       40       41 1\\n      83       40       45 1\\n      84       41       42 1\\n      85       41       43 1\\n      86       41       44 1\\n      87       43       84 1\\n      88       45       85 1\\n@<TRIPOS>SUBSTRUCTURE\\n       1 RES             1 RESIDUE    0 **** ROOT      0\\n\",\"mol2\");\n",
       "\tviewer_1750182300704919.setStyle({\"stick\": {\"radius\": 0.18, \"color\": \"grey\"}, \"sphere\": {\"scale\": 0.3, \"colorscheme\": {}}});\n",
       "\tviewer_1750182300704919.zoomTo();\n",
       "viewer_1750182300704919.render();\n",
       "});\n",
       "</script>"
      ]
     },
     "metadata": {},
     "output_type": "display_data"
    }
   ],
   "source": [
    "CY_smiles = r\"CC(/C(N1CCCCCC(O)=O)=C\\C=C\\C=C\\C2=[N+](CC)C(C=CC(S(=O)([O-])=O)=C3)=C3C2(C)C)(C)C4=C1C=CC(S(=O)(O)=O)=C4\"\n",
    "a = mb.load(CY_smiles, smiles=True)\n",
    "a.visualize().show()"
   ]
  },
  {
   "cell_type": "code",
   "execution_count": 3,
   "id": "62d6e7d6-3e4a-451f-9449-e6d203a0fc56",
   "metadata": {},
   "outputs": [
    {
     "name": "stdout",
     "output_type": "stream",
     "text": [
      "[#6]-[#6]1(/[#6](-[#7](-[#6]-[#6]-[#6]-[#6]-[#6]-[#6](-[#8])=[#8])-[#6]2:[#6]-1:[#6]:[#6](:[#6]:[#6]:2)-[#16](=[#8])(-[#8])=[#8])=[#6]\\[#6]=[#6]\\[#6]=[#6]\\[#6]1=[#7+](-[#6]-[#6])-[#6]2:[#6]:[#6]:[#6](-[#16](=[#8])(-[#8-])=[#8]):[#6]:[#6]:2-[#6]-1(-[#6])-[#6])-[#6]\n"
     ]
    }
   ],
   "source": [
    "from rdkit import Chem\n",
    "\n",
    "mol = Chem.MolFromSmiles(CY_smiles)\n",
    "smarts = Chem.MolToSmarts(mol)\n",
    "print(smarts)"
   ]
  },
  {
   "cell_type": "code",
   "execution_count": 8,
   "id": "d6285f42-272c-4206-b738-fa3cb3688626",
   "metadata": {},
   "outputs": [
    {
     "name": "stdout",
     "output_type": "stream",
     "text": [
      "Added 0 hydrogens.\n"
     ]
    }
   ],
   "source": [
    "a_bead = r\"SO\"\n",
    "b_bead = r\"CCCCCCO\"\n",
    "c_bead = r\"NCCCC\"\n",
    "d_bead = r\"CCCCC\"\n",
    "gsdfile = \"CGcy5.gsd\"\n",
    "system = CG_Compound(\n",
    "    compound=a,\n",
    "    add_hydrogens = True,\n",
    "    beads={\"_A\":a_bead, \"_B\":b_bead,\"_C\":c_bead,\"_D\":d_bead}\n",
    ")"
   ]
  },
  {
   "cell_type": "code",
   "execution_count": 9,
   "id": "9660225b-93e6-49b8-9d31-5786ae97e187",
   "metadata": {},
   "outputs": [
    {
     "name": "stderr",
     "output_type": "stream",
     "text": [
      "/Users/stephaniemccallum/miniforge3/envs/grits/lib/python3.12/site-packages/mbuild/conversion.py:2054: UserWarning: No element attribute associated with '<_A pos=([-1.0926  0.1119  0.1044]), 0 bonds, id: 5879650768>'; and no matching elements found based upon the compound name. Setting atomic number to zero.\n",
      "  warn(warn_msg)\n",
      "/Users/stephaniemccallum/miniforge3/envs/grits/lib/python3.12/site-packages/mbuild/conversion.py:2054: UserWarning: No element attribute associated with '<_B pos=([0.5573 0.1798 0.2063]), 0 bonds, id: 4381695760>'; and no matching elements found based upon the compound name. Setting atomic number to zero.\n",
      "  warn(warn_msg)\n"
     ]
    }
   ],
   "source": [
    "system.save(gsdfile)"
   ]
  },
  {
   "cell_type": "code",
   "execution_count": null,
   "id": "ef3df28f-f37b-48ba-886c-39f11b57828b",
   "metadata": {},
   "outputs": [],
   "source": []
  }
 ],
 "metadata": {
  "kernelspec": {
   "display_name": "Python 3 (ipykernel)",
   "language": "python",
   "name": "python3"
  },
  "language_info": {
   "codemirror_mode": {
    "name": "ipython",
    "version": 3
   },
   "file_extension": ".py",
   "mimetype": "text/x-python",
   "name": "python",
   "nbconvert_exporter": "python",
   "pygments_lexer": "ipython3",
   "version": "3.12.0"
  }
 },
 "nbformat": 4,
 "nbformat_minor": 5
}
