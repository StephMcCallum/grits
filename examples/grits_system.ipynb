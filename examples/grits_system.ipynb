{
 "cells": [
  {
   "cell_type": "markdown",
   "metadata": {
    "tags": []
   },
   "source": [
    "# Using GRiTS on simulation data\n",
    "\n",
    "In the following example we will demonstrate using GRiTS on data from a real simulation. It is advisable to go through the \"Intro to GRiTS\" tutorial first."
   ]
  },
  {
   "cell_type": "code",
   "execution_count": null,
   "metadata": {
    "slideshow": {
     "slide_type": "fragment"
    }
   },
   "outputs": [],
   "source": [
    "import mbuild as mb\n",
    "\n",
    "from grits import CG_System\n",
    "from grits.utils import amber_dict"
   ]
  },
  {
   "cell_type": "markdown",
   "metadata": {
    "tags": []
   },
   "source": [
    "### Coarse-graining\n",
    "\n",
    "The following example will use a [GSD](https://gsd.readthedocs.io/en/stable/index.html) file from a  [HOOMD](https://hoomd-blue.readthedocs.io/en/latest/) simulation initialized and run using [PlanckTon](https://github.com/cmelab/planckton).\n",
    "\n",
    "The simulation was run using the general amber forcefield and the chemistries are shown below:\n",
    "\n",
    "![structures](p3ht-itic.png)\n",
    "\n",
    "In order to apply a coarse-grain mapping to an atomistic structure we need to know the atom indices which correspond to each bead. GRiTS works by using [SMILES](https://www.daylight.com/dayhtml/doc/theory/theory.smiles.html) strings to find instances of that chemical fragment and map those atom indices to a bead. The goal of this example is to map the backbone of each ITIC molecule and the thiophene ring in each P3HT monomer (the GSD file contains a 16-mer) to a bead.\n",
    "\n",
    "The next cell visualizes the target fragments:"
   ]
  },
  {
   "cell_type": "code",
   "execution_count": null,
   "metadata": {},
   "outputs": [],
   "source": [
    "itic_backbone = \"c1c4c(cc2c1Cc3c2scc3)Cc5c4scc5\"\n",
    "thiophene = \"c1cscc1\"\n",
    "a = mb.load(itic_backbone, smiles=True)\n",
    "a.visualize().show()\n",
    "\n",
    "b = mb.load(thiophene, smiles=True)\n",
    "b.visualize().show()"
   ]
  },
  {
   "cell_type": "markdown",
   "metadata": {},
   "source": [
    "Next we will pass these SMILES patterns, along with our gsdfile and type dictionary, to the `CG_System` class to create our coarse-grained structure. The SMILES patterns for these beads are chosen carefully such that they are exclusive: The thiophene moiety used to map P3HT also exists in ITIC, but because the `itic_backbone` pattern we have chosen uses up the atoms in the thiophenes and this pattern is first in the `beads` dictionary, only the `itic_backbone` pattern will match in ITIC.\n",
    "\n",
    "The SMILES matching used in the `CG_Compound` class is slow, so the `CG_System` class relies on a couple assumptions:\n",
    "\n",
    "1. Molecules ([freud.cluster.Cluster](https://freud.readthedocs.io/en/latest/modules/cluster.html)s determined using bonds) having the same number of particles are assumed to have the same structure. (e.g., if two molecules each have 402 particles, they are assumed to have the same structure.)\n",
    "2. Atom order within each structure is assumed to be constant. (e.g., if the order of atoms in water is  HOH, then all water structures are in that order--not OHH or HHO.)\n",
    "3. The particle indices are assumed to be constant for each frame of the trajectory."
   ]
  },
  {
   "cell_type": "code",
   "execution_count": null,
   "metadata": {},
   "outputs": [],
   "source": [
    "gsdfile = \"../grits/tests/assets/itic-p3ht.gsd\"\n",
    "system = CG_System(\n",
    "    gsdfile,\n",
    "    beads={\"_A\": itic_backbone, \"_B\": thiophene},\n",
    "    conversion_dict=amber_dict,\n",
    ")"
   ]
  },
  {
   "cell_type": "markdown",
   "metadata": {},
   "source": [
    "The cell above will have a couple warnings which can be safely ignored: one from OpenBabel, another telling us that some atoms were left out of coarse-graining (expected since we do not map the entire structure of ITIC or P3HT), and another telling us that the `itic_backbone` string wasn't found (we do not expect this pattern to exist in P3HT). \n",
    "\n",
    "Next we can save the mapped structure to a GSD file; by default every frame will mapped and saved:"
   ]
  },
  {
   "cell_type": "code",
   "execution_count": null,
   "metadata": {},
   "outputs": [],
   "source": [
    "cg_gsd = \"itic-p3ht-cg.gsd\"\n",
    "system.save(cg_gsd)"
   ]
  },
  {
   "cell_type": "markdown",
   "metadata": {},
   "source": [
    "To see the coarse-grain mapping we can open both files in [OVITO](https://www.ovito.org/) or [VMD](https://www.ks.uiuc.edu/Research/vmd/) with [the gsd-vmd plugin](https://github.com/mphowardlab/gsd-vmd).\n",
    "\n",
    "The images below showing the bead overlaid with the atomistic structure were created using OVITO:\n",
    "\n",
    "![itic](cg-itic.png)\n",
    "![p3ht](cg-p3ht.png)\n",
    "\n",
    "If we have multiple statepoints with the same initial structure and want to reuse our mapping, we can save the mapping to a json file:"
   ]
  },
  {
   "cell_type": "code",
   "execution_count": null,
   "metadata": {},
   "outputs": [],
   "source": [
    "cg_json = \"itic-p3ht-cg.json\"\n",
    "system.save_mapping(cg_json)"
   ]
  }
 ],
 "metadata": {
  "kernelspec": {
   "display_name": "Python 3 (ipykernel)",
   "language": "python",
   "name": "python3"
  },
  "language_info": {
   "codemirror_mode": {
    "name": "ipython",
    "version": 3
   },
   "file_extension": ".py",
   "mimetype": "text/x-python",
   "name": "python",
   "nbconvert_exporter": "python",
   "pygments_lexer": "ipython3",
   "version": "3.8.12"
  }
 },
 "nbformat": 4,
 "nbformat_minor": 4
}
